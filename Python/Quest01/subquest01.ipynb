{
 "cells": [
  {
   "cell_type": "code",
   "execution_count": null,
   "id": "9eeabd66",
   "metadata": {},
   "outputs": [],
   "source": [
    "# 회문 확인 프로그램\n",
    "\n",
    "def isPalindrome():\n",
    "  # 1. 문자열을 입력받고, 출력합니다.\n",
    "  input_word = input('입력값:\\n')\n",
    "  print()\n",
    "\n",
    "  # 2. 문자열을 뒤집는 과정입니다.\n",
    "  output_word = \"\"\n",
    "  num = len(input_word)\n",
    "  while num > 0 :\n",
    "    output_word = output_word + input_word[num - 1]\n",
    "    num = num - 1\n",
    "\n",
    "  # 3. 뒤집힌 문자열 출력합니다.\n",
    "  print('출력값:')\n",
    "  print('뒤집힌 단어:', output_word)\n",
    "\n",
    "\t# 4. 두 문자열 비교하고 결과를 출력합니다.\n",
    "  if input_word == output_word:\n",
    "      print('입력된 단어는 회문입니다.')\n",
    "  else:\n",
    "      print('입력된 단어는 회문이 아닙니다.')\n",
    "\n",
    "if __name__ == \"__main__\":\n",
    "  isPalindrome()\n",
    "\n",
    "\n",
    "# Personal Reflection(개인 회고)\n",
    "# 함수명은 snakecase로 변경 필요(PEP8스타일 가이드)\n",
    "# input_word 값에 문자열 공백과 대소구분무시를 적용하자\n",
    "  # - strip(): 문자열 앞뒤의 공백 제거\n",
    "  # - replace(): 문자열 중간의 공백 제거\n",
    "  # - lower(): 소문자로 변환\n",
    "# 문자 뒤집기는 슬라이싱으로 간결하게 \n"
   ]
  }
 ],
 "metadata": {
  "kernelspec": {
   "display_name": "Python 3 (ipykernel)",
   "language": "python",
   "name": "python3"
  },
  "language_info": {
   "codemirror_mode": {
    "name": "ipython",
    "version": 3
   },
   "file_extension": ".py",
   "mimetype": "text/x-python",
   "name": "python",
   "nbconvert_exporter": "python",
   "pygments_lexer": "ipython3",
   "version": "3.9.7"
  }
 },
 "nbformat": 4,
 "nbformat_minor": 5
}
